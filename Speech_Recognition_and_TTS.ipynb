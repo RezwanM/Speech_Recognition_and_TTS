{
 "cells": [
  {
   "cell_type": "code",
   "execution_count": 6,
   "id": "107b5305",
   "metadata": {},
   "outputs": [],
   "source": [
    "\"\"\"\n",
    "Code borrowed from: https://realpython.com/python-speech-recognition/\n",
    "                    https://www.geeksforgeeks.org/convert-text-speech-python/\n",
    "\"\"\"\n",
    "import speech_recognition as sr\n",
    "from gtts import gTTS\n",
    "import os"
   ]
  },
  {
   "cell_type": "code",
   "execution_count": 7,
   "id": "04bdfe40",
   "metadata": {},
   "outputs": [],
   "source": [
    "# Create a Recognizer instance\n",
    "r = sr.Recognizer()"
   ]
  },
  {
   "cell_type": "code",
   "execution_count": 8,
   "id": "1de9bf5d",
   "metadata": {},
   "outputs": [
    {
     "name": "stdout",
     "output_type": "stream",
     "text": [
      "coding is fun\n"
     ]
    }
   ],
   "source": [
    "# Use the default microphone. Stop recording when pause is detected.\n",
    "mic = sr.Microphone()\n",
    "with mic as source:\n",
    "    r.adjust_for_ambient_noise(source)\n",
    "    audio = r.listen(source)\n",
    "    \n",
    "speech = r.recognize_google(audio)\n",
    "print(speech)"
   ]
  },
  {
   "cell_type": "code",
   "execution_count": 9,
   "id": "68ede2e0",
   "metadata": {},
   "outputs": [],
   "source": [
    "# The language in which we want to hear our text. \"en\" for English.\n",
    "language = \"en\""
   ]
  },
  {
   "cell_type": "code",
   "execution_count": 10,
   "id": "62aa8cba",
   "metadata": {},
   "outputs": [],
   "source": [
    "# Slow parameter indicates whether we want the string to be read quickly or slowly.\n",
    "myobj = gTTS(text=speech, lang=language, slow=False)"
   ]
  },
  {
   "cell_type": "code",
   "execution_count": 11,
   "id": "81c4d1a3",
   "metadata": {},
   "outputs": [],
   "source": [
    "# Save as a WAV file\n",
    "myobj.save(\"tts.wav\")"
   ]
  },
  {
   "cell_type": "code",
   "execution_count": 12,
   "id": "34558ba5",
   "metadata": {},
   "outputs": [
    {
     "data": {
      "text/plain": [
       "0"
      ]
     },
     "execution_count": 12,
     "metadata": {},
     "output_type": "execute_result"
    }
   ],
   "source": [
    "# Playing the saved file\n",
    "os.system(\"tts.wav\")"
   ]
  },
  {
   "cell_type": "code",
   "execution_count": null,
   "id": "d7f38850",
   "metadata": {},
   "outputs": [],
   "source": []
  }
 ],
 "metadata": {
  "kernelspec": {
   "display_name": "Python 3",
   "language": "python",
   "name": "python3"
  },
  "language_info": {
   "codemirror_mode": {
    "name": "ipython",
    "version": 3
   },
   "file_extension": ".py",
   "mimetype": "text/x-python",
   "name": "python",
   "nbconvert_exporter": "python",
   "pygments_lexer": "ipython3",
   "version": "3.7.10"
  }
 },
 "nbformat": 4,
 "nbformat_minor": 5
}
